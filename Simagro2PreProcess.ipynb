{
 "cells": [
  {
   "cell_type": "code",
   "execution_count": 25,
   "id": "83f0b804-2dd9-4186-9c41-4ad12560b8b3",
   "metadata": {
    "tags": []
   },
   "outputs": [
    {
     "name": "stdout",
     "output_type": "stream",
     "text": [
      "['./data_csv/Station08.csv', './data_csv/Station20.csv', './data_csv/Station09.csv', './data_csv/Station19.csv', './data_csv/Station18.csv', './data_csv/Station01.csv', './data_csv/Station15.csv', './data_csv/Station14.csv', './data_csv/Station16.csv', './data_csv/Station02.csv', './data_csv/Station03.csv', './data_csv/Station13.csv', './data_csv/Station07.csv', './data_csv/Station06.csv', './data_csv/Station12.csv', './data_csv/Station04.csv', './data_csv/Station10.csv', './data_csv/Station11.csv', './data_csv/Station05.csv']\n"
     ]
    }
   ],
   "source": [
    "import pandas as pd\n",
    "import os\n",
    "import glob\n",
    "  \n",
    "  \n",
    "# use glob to get all the csv files \n",
    "# in the folder\n",
    "path = './data_csv'\n",
    "\n",
    "csv_files = glob.glob(os.path.join(path, \"*.csv\"))\n",
    "print(csv_files)"
   ]
  },
  {
   "cell_type": "code",
   "execution_count": 26,
   "id": "6b086be1-f55a-40f0-b9c6-72ba7965ab10",
   "metadata": {
    "tags": []
   },
   "outputs": [
    {
     "data": {
      "text/plain": [
       "list"
      ]
     },
     "execution_count": 26,
     "metadata": {},
     "output_type": "execute_result"
    }
   ],
   "source": [
    "type(csv_files)"
   ]
  },
  {
   "cell_type": "code",
   "execution_count": 27,
   "id": "a981000b-d7ea-42a3-8bf7-b1d267f9738b",
   "metadata": {
    "tags": []
   },
   "outputs": [
    {
     "name": "stdout",
     "output_type": "stream",
     "text": [
      "[\"./data_csv/Station08.csv\", \"./data_csv/Station20.csv\", \"./data_csv/Station09.csv\", \"./data_csv/Station19.csv\", \"./data_csv/Station18.csv\", \"./data_csv/Station01.csv\", \"./data_csv/Station15.csv\", \"./data_csv/Station14.csv\", \"./data_csv/Station16.csv\", \"./data_csv/Station02.csv\", \"./data_csv/Station03.csv\", \"./data_csv/Station13.csv\", \"./data_csv/Station07.csv\", \"./data_csv/Station06.csv\", \"./data_csv/Station12.csv\", \"./data_csv/Station04.csv\", \"./data_csv/Station10.csv\", \"./data_csv/Station11.csv\", \"./data_csv/Station05.csv\"]\n"
     ]
    }
   ],
   "source": [
    "import json\n",
    "\n",
    "json_string = json.dumps(csv_files)\n",
    "print(json_string)"
   ]
  },
  {
   "cell_type": "code",
   "execution_count": null,
   "id": "81460bd5-d282-4513-aaa0-f1661c4d4653",
   "metadata": {},
   "outputs": [],
   "source": []
  },
  {
   "cell_type": "code",
   "execution_count": 28,
   "id": "e7e8c0ec-0501-4d6e-80b7-79e18311aab1",
   "metadata": {
    "tags": []
   },
   "outputs": [],
   "source": [
    "csv_files.sort()"
   ]
  },
  {
   "cell_type": "code",
   "execution_count": 29,
   "id": "488af8fb-f64a-40f9-8480-814a6d046f22",
   "metadata": {
    "tags": []
   },
   "outputs": [
    {
     "data": {
      "text/plain": [
       "['./data_csv/Station01.csv',\n",
       " './data_csv/Station02.csv',\n",
       " './data_csv/Station03.csv',\n",
       " './data_csv/Station04.csv',\n",
       " './data_csv/Station05.csv',\n",
       " './data_csv/Station06.csv',\n",
       " './data_csv/Station07.csv',\n",
       " './data_csv/Station08.csv',\n",
       " './data_csv/Station09.csv',\n",
       " './data_csv/Station10.csv',\n",
       " './data_csv/Station11.csv',\n",
       " './data_csv/Station12.csv',\n",
       " './data_csv/Station13.csv',\n",
       " './data_csv/Station14.csv',\n",
       " './data_csv/Station15.csv',\n",
       " './data_csv/Station16.csv',\n",
       " './data_csv/Station18.csv',\n",
       " './data_csv/Station19.csv',\n",
       " './data_csv/Station20.csv']"
      ]
     },
     "execution_count": 29,
     "metadata": {},
     "output_type": "execute_result"
    }
   ],
   "source": [
    "csv_files"
   ]
  },
  {
   "cell_type": "code",
   "execution_count": 21,
   "id": "19dd02e8-f782-4154-a4d9-f9c4b3250ebe",
   "metadata": {
    "tags": []
   },
   "outputs": [
    {
     "name": "stdout",
     "output_type": "stream",
     "text": [
      "./data_csv/Station01.csv\n"
     ]
    }
   ],
   "source": [
    "print(csv_files[0])"
   ]
  },
  {
   "cell_type": "code",
   "execution_count": 23,
   "id": "4b7ae474-17af-437c-908f-0837ad062958",
   "metadata": {
    "tags": []
   },
   "outputs": [
    {
     "data": {
      "text/plain": [
       "49700"
      ]
     },
     "execution_count": 23,
     "metadata": {},
     "output_type": "execute_result"
    }
   ],
   "source": [
    "testdf = pd.read_csv(csv_files[10])\n",
    "len(testdf)"
   ]
  },
  {
   "cell_type": "code",
   "execution_count": null,
   "id": "72611c1c-7689-400d-9044-9ef3535e2f4a",
   "metadata": {},
   "outputs": [],
   "source": []
  },
  {
   "cell_type": "code",
   "execution_count": 88,
   "id": "02cf5f5e-1fd9-4243-800d-d40d14f919e2",
   "metadata": {
    "tags": []
   },
   "outputs": [
    {
     "name": "stdout",
     "output_type": "stream",
     "text": [
      "./data_csv/Station01.csv\n"
     ]
    },
    {
     "data": {
      "text/html": [
       "<div>\n",
       "<style scoped>\n",
       "    .dataframe tbody tr th:only-of-type {\n",
       "        vertical-align: middle;\n",
       "    }\n",
       "\n",
       "    .dataframe tbody tr th {\n",
       "        vertical-align: top;\n",
       "    }\n",
       "\n",
       "    .dataframe thead th {\n",
       "        text-align: right;\n",
       "    }\n",
       "</style>\n",
       "<table border=\"1\" class=\"dataframe\">\n",
       "  <thead>\n",
       "    <tr style=\"text-align: right;\">\n",
       "      <th></th>\n",
       "      <th>StationID</th>\n",
       "      <th>Date</th>\n",
       "      <th>Time</th>\n",
       "      <th>Temp</th>\n",
       "      <th>RelHum</th>\n",
       "      <th>Rain</th>\n",
       "      <th>SolarRad</th>\n",
       "    </tr>\n",
       "  </thead>\n",
       "  <tbody>\n",
       "    <tr>\n",
       "      <th>0</th>\n",
       "      <td>1</td>\n",
       "      <td>22/07/20</td>\n",
       "      <td>13:30</td>\n",
       "      <td>25.8</td>\n",
       "      <td>60</td>\n",
       "      <td>0.0</td>\n",
       "      <td>491</td>\n",
       "    </tr>\n",
       "    <tr>\n",
       "      <th>1</th>\n",
       "      <td>1</td>\n",
       "      <td>22/07/20</td>\n",
       "      <td>14:00</td>\n",
       "      <td>25.8</td>\n",
       "      <td>59</td>\n",
       "      <td>0.0</td>\n",
       "      <td>476</td>\n",
       "    </tr>\n",
       "    <tr>\n",
       "      <th>2</th>\n",
       "      <td>1</td>\n",
       "      <td>22/07/20</td>\n",
       "      <td>14:30</td>\n",
       "      <td>26.1</td>\n",
       "      <td>58</td>\n",
       "      <td>0.0</td>\n",
       "      <td>365</td>\n",
       "    </tr>\n",
       "    <tr>\n",
       "      <th>3</th>\n",
       "      <td>1</td>\n",
       "      <td>22/07/20</td>\n",
       "      <td>15:00</td>\n",
       "      <td>26.0</td>\n",
       "      <td>58</td>\n",
       "      <td>0.0</td>\n",
       "      <td>316</td>\n",
       "    </tr>\n",
       "    <tr>\n",
       "      <th>4</th>\n",
       "      <td>1</td>\n",
       "      <td>22/07/20</td>\n",
       "      <td>15:30</td>\n",
       "      <td>26.2</td>\n",
       "      <td>58</td>\n",
       "      <td>0.0</td>\n",
       "      <td>299</td>\n",
       "    </tr>\n",
       "  </tbody>\n",
       "</table>\n",
       "</div>"
      ],
      "text/plain": [
       "   StationID      Date   Time  Temp RelHum  Rain SolarRad\n",
       "0          1  22/07/20  13:30  25.8     60   0.0      491\n",
       "1          1  22/07/20  14:00  25.8     59   0.0      476\n",
       "2          1  22/07/20  14:30  26.1     58   0.0      365\n",
       "3          1  22/07/20  15:00  26.0     58   0.0      316\n",
       "4          1  22/07/20  15:30  26.2     58   0.0      299"
      ]
     },
     "execution_count": 88,
     "metadata": {},
     "output_type": "execute_result"
    }
   ],
   "source": [
    "file = csv_files[0]\n",
    "print(file)\n",
    "df = pd.read_csv(file)\n",
    "df.head()"
   ]
  },
  {
   "cell_type": "code",
   "execution_count": 30,
   "id": "5f1b7db3-a2b2-492c-a2c9-c61df40f54fe",
   "metadata": {
    "tags": []
   },
   "outputs": [],
   "source": [
    "from datetime import datetime\n",
    "\n",
    "big_df = pd.DataFrame()\n",
    "dfs = []\n",
    "\n",
    "# Parse date formats to Date (YYYY-MM-DD) and Time (HH:MM:SS)\n",
    "\n",
    "for file in csv_files:\n",
    "    df = pd.read_csv(file)\n",
    "    dfs.append(df)\n",
    "\n",
    "big_df = pd.concat(dfs, ignore_index=True)\n",
    "\n"
   ]
  },
  {
   "cell_type": "code",
   "execution_count": 31,
   "id": "278cc0aa-020d-433e-868d-217121a2ef52",
   "metadata": {
    "tags": []
   },
   "outputs": [],
   "source": [
    "big_df.to_csv('TESTEEXPORT.csv', index=False)"
   ]
  },
  {
   "cell_type": "code",
   "execution_count": 70,
   "id": "e3e24b26-3f5e-4dbb-8ea3-a5cb5cc16090",
   "metadata": {
    "tags": []
   },
   "outputs": [
    {
     "data": {
      "text/html": [
       "<div>\n",
       "<style scoped>\n",
       "    .dataframe tbody tr th:only-of-type {\n",
       "        vertical-align: middle;\n",
       "    }\n",
       "\n",
       "    .dataframe tbody tr th {\n",
       "        vertical-align: top;\n",
       "    }\n",
       "\n",
       "    .dataframe thead th {\n",
       "        text-align: right;\n",
       "    }\n",
       "</style>\n",
       "<table border=\"1\" class=\"dataframe\">\n",
       "  <thead>\n",
       "    <tr style=\"text-align: right;\">\n",
       "      <th></th>\n",
       "      <th>StationID</th>\n",
       "      <th>Date</th>\n",
       "      <th>Time</th>\n",
       "      <th>Temp</th>\n",
       "      <th>RelHum</th>\n",
       "      <th>Rain</th>\n",
       "      <th>SolarRad</th>\n",
       "    </tr>\n",
       "  </thead>\n",
       "  <tbody>\n",
       "    <tr>\n",
       "      <th>0</th>\n",
       "      <td>1</td>\n",
       "      <td>22/07/20</td>\n",
       "      <td>13:30</td>\n",
       "      <td>25.8</td>\n",
       "      <td>60</td>\n",
       "      <td>0.0</td>\n",
       "      <td>491</td>\n",
       "    </tr>\n",
       "    <tr>\n",
       "      <th>1</th>\n",
       "      <td>1</td>\n",
       "      <td>22/07/20</td>\n",
       "      <td>14:00</td>\n",
       "      <td>25.8</td>\n",
       "      <td>59</td>\n",
       "      <td>0.0</td>\n",
       "      <td>476</td>\n",
       "    </tr>\n",
       "    <tr>\n",
       "      <th>2</th>\n",
       "      <td>1</td>\n",
       "      <td>22/07/20</td>\n",
       "      <td>14:30</td>\n",
       "      <td>26.1</td>\n",
       "      <td>58</td>\n",
       "      <td>0.0</td>\n",
       "      <td>365</td>\n",
       "    </tr>\n",
       "    <tr>\n",
       "      <th>3</th>\n",
       "      <td>1</td>\n",
       "      <td>22/07/20</td>\n",
       "      <td>15:00</td>\n",
       "      <td>26.0</td>\n",
       "      <td>58</td>\n",
       "      <td>0.0</td>\n",
       "      <td>316</td>\n",
       "    </tr>\n",
       "    <tr>\n",
       "      <th>4</th>\n",
       "      <td>1</td>\n",
       "      <td>22/07/20</td>\n",
       "      <td>15:30</td>\n",
       "      <td>26.2</td>\n",
       "      <td>58</td>\n",
       "      <td>0.0</td>\n",
       "      <td>299</td>\n",
       "    </tr>\n",
       "    <tr>\n",
       "      <th>5</th>\n",
       "      <td>1</td>\n",
       "      <td>22/07/20</td>\n",
       "      <td>16:00</td>\n",
       "      <td>25.8</td>\n",
       "      <td>60</td>\n",
       "      <td>0.0</td>\n",
       "      <td>243</td>\n",
       "    </tr>\n",
       "    <tr>\n",
       "      <th>6</th>\n",
       "      <td>1</td>\n",
       "      <td>22/07/20</td>\n",
       "      <td>16:30</td>\n",
       "      <td>26.3</td>\n",
       "      <td>59</td>\n",
       "      <td>0.0</td>\n",
       "      <td>238</td>\n",
       "    </tr>\n",
       "    <tr>\n",
       "      <th>7</th>\n",
       "      <td>1</td>\n",
       "      <td>22/07/20</td>\n",
       "      <td>17:00</td>\n",
       "      <td>25.6</td>\n",
       "      <td>61</td>\n",
       "      <td>0.0</td>\n",
       "      <td>103</td>\n",
       "    </tr>\n",
       "    <tr>\n",
       "      <th>8</th>\n",
       "      <td>1</td>\n",
       "      <td>22/07/20</td>\n",
       "      <td>17:30</td>\n",
       "      <td>23.6</td>\n",
       "      <td>69</td>\n",
       "      <td>0.0</td>\n",
       "      <td>29</td>\n",
       "    </tr>\n",
       "    <tr>\n",
       "      <th>9</th>\n",
       "      <td>1</td>\n",
       "      <td>22/07/20</td>\n",
       "      <td>18:00</td>\n",
       "      <td>23.1</td>\n",
       "      <td>71</td>\n",
       "      <td>0.0</td>\n",
       "      <td>7</td>\n",
       "    </tr>\n",
       "    <tr>\n",
       "      <th>10</th>\n",
       "      <td>1</td>\n",
       "      <td>22/07/20</td>\n",
       "      <td>18:30</td>\n",
       "      <td>22.6</td>\n",
       "      <td>72</td>\n",
       "      <td>0.0</td>\n",
       "      <td>0</td>\n",
       "    </tr>\n",
       "    <tr>\n",
       "      <th>11</th>\n",
       "      <td>1</td>\n",
       "      <td>22/07/20</td>\n",
       "      <td>19:00</td>\n",
       "      <td>22.3</td>\n",
       "      <td>73</td>\n",
       "      <td>0.0</td>\n",
       "      <td>0</td>\n",
       "    </tr>\n",
       "    <tr>\n",
       "      <th>12</th>\n",
       "      <td>1</td>\n",
       "      <td>22/07/20</td>\n",
       "      <td>19:30</td>\n",
       "      <td>21.7</td>\n",
       "      <td>75</td>\n",
       "      <td>0.0</td>\n",
       "      <td>0</td>\n",
       "    </tr>\n",
       "    <tr>\n",
       "      <th>13</th>\n",
       "      <td>1</td>\n",
       "      <td>22/07/20</td>\n",
       "      <td>20:00</td>\n",
       "      <td>21.7</td>\n",
       "      <td>76</td>\n",
       "      <td>0.0</td>\n",
       "      <td>0</td>\n",
       "    </tr>\n",
       "    <tr>\n",
       "      <th>14</th>\n",
       "      <td>1</td>\n",
       "      <td>22/07/20</td>\n",
       "      <td>20:30</td>\n",
       "      <td>21.1</td>\n",
       "      <td>78</td>\n",
       "      <td>0.0</td>\n",
       "      <td>0</td>\n",
       "    </tr>\n",
       "    <tr>\n",
       "      <th>15</th>\n",
       "      <td>1</td>\n",
       "      <td>22/07/20</td>\n",
       "      <td>21:00</td>\n",
       "      <td>20.1</td>\n",
       "      <td>82</td>\n",
       "      <td>0.0</td>\n",
       "      <td>0</td>\n",
       "    </tr>\n",
       "    <tr>\n",
       "      <th>16</th>\n",
       "      <td>1</td>\n",
       "      <td>22/07/20</td>\n",
       "      <td>21:30</td>\n",
       "      <td>20.3</td>\n",
       "      <td>81</td>\n",
       "      <td>0.0</td>\n",
       "      <td>0</td>\n",
       "    </tr>\n",
       "    <tr>\n",
       "      <th>17</th>\n",
       "      <td>1</td>\n",
       "      <td>22/07/20</td>\n",
       "      <td>22:00</td>\n",
       "      <td>20.1</td>\n",
       "      <td>82</td>\n",
       "      <td>0.0</td>\n",
       "      <td>0</td>\n",
       "    </tr>\n",
       "    <tr>\n",
       "      <th>18</th>\n",
       "      <td>1</td>\n",
       "      <td>22/07/20</td>\n",
       "      <td>22:30</td>\n",
       "      <td>20.2</td>\n",
       "      <td>81</td>\n",
       "      <td>0.0</td>\n",
       "      <td>0</td>\n",
       "    </tr>\n",
       "    <tr>\n",
       "      <th>19</th>\n",
       "      <td>1</td>\n",
       "      <td>22/07/20</td>\n",
       "      <td>23:00</td>\n",
       "      <td>20.1</td>\n",
       "      <td>80</td>\n",
       "      <td>0.0</td>\n",
       "      <td>0</td>\n",
       "    </tr>\n",
       "    <tr>\n",
       "      <th>20</th>\n",
       "      <td>1</td>\n",
       "      <td>22/07/20</td>\n",
       "      <td>23:30</td>\n",
       "      <td>20.0</td>\n",
       "      <td>80</td>\n",
       "      <td>0.0</td>\n",
       "      <td>0</td>\n",
       "    </tr>\n",
       "    <tr>\n",
       "      <th>21</th>\n",
       "      <td>1</td>\n",
       "      <td>23/07/20</td>\n",
       "      <td>00:00</td>\n",
       "      <td>19.8</td>\n",
       "      <td>80</td>\n",
       "      <td>0.0</td>\n",
       "      <td>0</td>\n",
       "    </tr>\n",
       "    <tr>\n",
       "      <th>22</th>\n",
       "      <td>1</td>\n",
       "      <td>23/07/20</td>\n",
       "      <td>0:30</td>\n",
       "      <td>19.8</td>\n",
       "      <td>80</td>\n",
       "      <td>0.0</td>\n",
       "      <td>0</td>\n",
       "    </tr>\n",
       "    <tr>\n",
       "      <th>23</th>\n",
       "      <td>1</td>\n",
       "      <td>23/07/20</td>\n",
       "      <td>1:00</td>\n",
       "      <td>19.5</td>\n",
       "      <td>81</td>\n",
       "      <td>0.0</td>\n",
       "      <td>0</td>\n",
       "    </tr>\n",
       "    <tr>\n",
       "      <th>24</th>\n",
       "      <td>1</td>\n",
       "      <td>23/07/20</td>\n",
       "      <td>1:30</td>\n",
       "      <td>19.1</td>\n",
       "      <td>82</td>\n",
       "      <td>0.0</td>\n",
       "      <td>0</td>\n",
       "    </tr>\n",
       "    <tr>\n",
       "      <th>25</th>\n",
       "      <td>1</td>\n",
       "      <td>23/07/20</td>\n",
       "      <td>2:00</td>\n",
       "      <td>18.9</td>\n",
       "      <td>82</td>\n",
       "      <td>0.0</td>\n",
       "      <td>0</td>\n",
       "    </tr>\n",
       "    <tr>\n",
       "      <th>26</th>\n",
       "      <td>1</td>\n",
       "      <td>23/07/20</td>\n",
       "      <td>2:30</td>\n",
       "      <td>18.6</td>\n",
       "      <td>84</td>\n",
       "      <td>0.0</td>\n",
       "      <td>0</td>\n",
       "    </tr>\n",
       "    <tr>\n",
       "      <th>27</th>\n",
       "      <td>1</td>\n",
       "      <td>23/07/20</td>\n",
       "      <td>3:00</td>\n",
       "      <td>18.3</td>\n",
       "      <td>85</td>\n",
       "      <td>0.0</td>\n",
       "      <td>0</td>\n",
       "    </tr>\n",
       "    <tr>\n",
       "      <th>28</th>\n",
       "      <td>1</td>\n",
       "      <td>23/07/20</td>\n",
       "      <td>3:30</td>\n",
       "      <td>18.4</td>\n",
       "      <td>84</td>\n",
       "      <td>0.0</td>\n",
       "      <td>0</td>\n",
       "    </tr>\n",
       "    <tr>\n",
       "      <th>29</th>\n",
       "      <td>1</td>\n",
       "      <td>23/07/20</td>\n",
       "      <td>4:00</td>\n",
       "      <td>18.2</td>\n",
       "      <td>84</td>\n",
       "      <td>0.0</td>\n",
       "      <td>0</td>\n",
       "    </tr>\n",
       "  </tbody>\n",
       "</table>\n",
       "</div>"
      ],
      "text/plain": [
       "    StationID      Date   Time  Temp RelHum  Rain SolarRad\n",
       "0           1  22/07/20  13:30  25.8     60   0.0      491\n",
       "1           1  22/07/20  14:00  25.8     59   0.0      476\n",
       "2           1  22/07/20  14:30  26.1     58   0.0      365\n",
       "3           1  22/07/20  15:00  26.0     58   0.0      316\n",
       "4           1  22/07/20  15:30  26.2     58   0.0      299\n",
       "5           1  22/07/20  16:00  25.8     60   0.0      243\n",
       "6           1  22/07/20  16:30  26.3     59   0.0      238\n",
       "7           1  22/07/20  17:00  25.6     61   0.0      103\n",
       "8           1  22/07/20  17:30  23.6     69   0.0       29\n",
       "9           1  22/07/20  18:00  23.1     71   0.0        7\n",
       "10          1  22/07/20  18:30  22.6     72   0.0        0\n",
       "11          1  22/07/20  19:00  22.3     73   0.0        0\n",
       "12          1  22/07/20  19:30  21.7     75   0.0        0\n",
       "13          1  22/07/20  20:00  21.7     76   0.0        0\n",
       "14          1  22/07/20  20:30  21.1     78   0.0        0\n",
       "15          1  22/07/20  21:00  20.1     82   0.0        0\n",
       "16          1  22/07/20  21:30  20.3     81   0.0        0\n",
       "17          1  22/07/20  22:00  20.1     82   0.0        0\n",
       "18          1  22/07/20  22:30  20.2     81   0.0        0\n",
       "19          1  22/07/20  23:00  20.1     80   0.0        0\n",
       "20          1  22/07/20  23:30  20.0     80   0.0        0\n",
       "21          1  23/07/20  00:00  19.8     80   0.0        0\n",
       "22          1  23/07/20   0:30  19.8     80   0.0        0\n",
       "23          1  23/07/20   1:00  19.5     81   0.0        0\n",
       "24          1  23/07/20   1:30  19.1     82   0.0        0\n",
       "25          1  23/07/20   2:00  18.9     82   0.0        0\n",
       "26          1  23/07/20   2:30  18.6     84   0.0        0\n",
       "27          1  23/07/20   3:00  18.3     85   0.0        0\n",
       "28          1  23/07/20   3:30  18.4     84   0.0        0\n",
       "29          1  23/07/20   4:00  18.2     84   0.0        0"
      ]
     },
     "execution_count": 70,
     "metadata": {},
     "output_type": "execute_result"
    }
   ],
   "source": [
    "big_df.head(30)"
   ]
  },
  {
   "cell_type": "code",
   "execution_count": 24,
   "id": "7a814309-df79-4271-9357-a0a1fed90725",
   "metadata": {
    "tags": []
   },
   "outputs": [
    {
     "ename": "NameError",
     "evalue": "name 'big_df' is not defined",
     "output_type": "error",
     "traceback": [
      "\u001b[0;31m---------------------------------------------------------------------------\u001b[0m",
      "\u001b[0;31mNameError\u001b[0m                                 Traceback (most recent call last)",
      "Cell \u001b[0;32mIn[24], line 1\u001b[0m\n\u001b[0;32m----> 1\u001b[0m big_df\u001b[38;5;241m.\u001b[39mtail(\u001b[38;5;241m30\u001b[39m)\n",
      "\u001b[0;31mNameError\u001b[0m: name 'big_df' is not defined"
     ]
    }
   ],
   "source": [
    "big_df.tail(30)"
   ]
  },
  {
   "cell_type": "code",
   "execution_count": 91,
   "id": "f63fb824-37e4-429c-84a3-44aedef99898",
   "metadata": {
    "tags": []
   },
   "outputs": [
    {
     "data": {
      "text/plain": [
       "(911605, 7)"
      ]
     },
     "execution_count": 91,
     "metadata": {},
     "output_type": "execute_result"
    }
   ],
   "source": [
    "big_df.shape"
   ]
  },
  {
   "cell_type": "code",
   "execution_count": 92,
   "id": "34b540f9-6282-4e8e-aa99-a838a0ed0b7e",
   "metadata": {
    "tags": []
   },
   "outputs": [
    {
     "data": {
      "text/plain": [
       "<bound method NDFrame.describe of         StationID      Date   Time  Temp RelHum  Rain SolarRad\n",
       "0               1  22/07/20  13:30  25.8     60   0.0      491\n",
       "1               1  22/07/20  14:00  25.8     59   0.0      476\n",
       "2               1  22/07/20  14:30  26.1     58   0.0      365\n",
       "3               1  22/07/20  15:00  26.0     58   0.0      316\n",
       "4               1  22/07/20  15:30  26.2     58   0.0      299\n",
       "...           ...       ...    ...   ...    ...   ...      ...\n",
       "911600         20  21/06/23  13:30  13.9     92   0.0       75\n",
       "911601         20  21/06/23  14:00  14.3     92   0.0      107\n",
       "911602         20  21/06/23  14:30  14.4     92   0.0       40\n",
       "911603         20  21/06/23  15:00  14.3     93   0.0       38\n",
       "911604         20  21/06/23  15:30  14.4     92   0.0       31\n",
       "\n",
       "[911605 rows x 7 columns]>"
      ]
     },
     "execution_count": 92,
     "metadata": {},
     "output_type": "execute_result"
    }
   ],
   "source": [
    "big_df.describe\n"
   ]
  },
  {
   "cell_type": "code",
   "execution_count": 93,
   "id": "9e2749d6-80fa-4e8b-bb6d-c6c4c68845ae",
   "metadata": {
    "tags": []
   },
   "outputs": [],
   "source": [
    "big_df['Temp'] = pd.to_numeric(big_df['Temp'], errors='coerce')\n",
    "big_df['RelHum'] = pd.to_numeric(big_df['RelHum'], errors='coerce')\n",
    "big_df['Rain'] = pd.to_numeric(big_df['Rain'], errors='coerce')\n",
    "big_df['SolarRad'] = pd.to_numeric(big_df['SolarRad'], errors='coerce')\n"
   ]
  },
  {
   "cell_type": "code",
   "execution_count": 94,
   "id": "a62ebb33-5760-40cc-b495-474a8cbc3961",
   "metadata": {
    "tags": []
   },
   "outputs": [
    {
     "data": {
      "text/plain": [
       "StationID      int64\n",
       "Date          object\n",
       "Time          object\n",
       "Temp         float64\n",
       "RelHum       float64\n",
       "Rain         float64\n",
       "SolarRad     float64\n",
       "dtype: object"
      ]
     },
     "execution_count": 94,
     "metadata": {},
     "output_type": "execute_result"
    }
   ],
   "source": [
    "big_df.dtypes"
   ]
  },
  {
   "cell_type": "code",
   "execution_count": null,
   "id": "d66f3d85-4a69-414b-9ef6-3e95a3111142",
   "metadata": {},
   "outputs": [],
   "source": []
  },
  {
   "cell_type": "code",
   "execution_count": 95,
   "id": "cf05c6fa-3eba-47b2-9d5b-d6ea270ad8e1",
   "metadata": {
    "tags": []
   },
   "outputs": [],
   "source": [
    "big_df.to_csv('AllStationsTempRHRainSolRad.csv', index=False)"
   ]
  },
  {
   "cell_type": "code",
   "execution_count": null,
   "id": "2f68c986-1486-49a7-9d82-89903720557f",
   "metadata": {},
   "outputs": [],
   "source": []
  },
  {
   "cell_type": "code",
   "execution_count": null,
   "id": "c65fc6bb-e3a1-4c7b-b068-4d1eaa683463",
   "metadata": {},
   "outputs": [],
   "source": []
  },
  {
   "cell_type": "code",
   "execution_count": null,
   "id": "65776a48-e4cc-4fff-bf2d-e651a68af067",
   "metadata": {},
   "outputs": [],
   "source": []
  },
  {
   "cell_type": "code",
   "execution_count": null,
   "id": "255fb847-4a32-450f-8862-affec8ef5b1a",
   "metadata": {},
   "outputs": [],
   "source": []
  },
  {
   "cell_type": "code",
   "execution_count": null,
   "id": "63fe11b7-093d-4dfe-8e83-e9ea9d8d183c",
   "metadata": {},
   "outputs": [],
   "source": []
  }
 ],
 "metadata": {
  "kernelspec": {
   "display_name": "Python 3 (ipykernel)",
   "language": "python",
   "name": "python3"
  },
  "language_info": {
   "codemirror_mode": {
    "name": "ipython",
    "version": 3
   },
   "file_extension": ".py",
   "mimetype": "text/x-python",
   "name": "python",
   "nbconvert_exporter": "python",
   "pygments_lexer": "ipython3",
   "version": "3.11.0"
  }
 },
 "nbformat": 4,
 "nbformat_minor": 5
}
